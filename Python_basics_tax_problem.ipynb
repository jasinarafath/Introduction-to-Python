{
  "nbformat": 4,
  "nbformat_minor": 0,
  "metadata": {
    "colab": {
      "name": "Python basics tax problem",
      "provenance": [],
      "collapsed_sections": []
    },
    "kernelspec": {
      "name": "python3",
      "display_name": "Python 3"
    },
    "language_info": {
      "name": "python"
    }
  },
  "cells": [
    {
      "cell_type": "code",
      "execution_count": 7,
      "metadata": {
        "id": "DsJ-C7bzztfY"
      },
      "outputs": [],
      "source": [
        "x=20"
      ]
    },
    {
      "cell_type": "code",
      "source": [
        "if x>10:\n",
        "  print(\"x>10\")"
      ],
      "metadata": {
        "colab": {
          "base_uri": "https://localhost:8080/"
        },
        "id": "TeMO9Oy50Xan",
        "outputId": "14b37b49-cedf-4791-af70-80ebd6a2ef1b"
      },
      "execution_count": 8,
      "outputs": [
        {
          "output_type": "stream",
          "name": "stdout",
          "text": [
            "x>10\n"
          ]
        }
      ]
    },
    {
      "cell_type": "code",
      "source": [
        "x=20"
      ],
      "metadata": {
        "id": "UG-FEzey2nPU"
      },
      "execution_count": 9,
      "outputs": []
    },
    {
      "cell_type": "code",
      "source": [
        "if x>10:\n",
        "  print(\"x>10\")\n",
        "if x<10:\n",
        " print (\"x<10\")\n",
        "if x==10:\n",
        " print(\"x==10\")"
      ],
      "metadata": {
        "colab": {
          "base_uri": "https://localhost:8080/"
        },
        "id": "kemQ1RnE3Jy0",
        "outputId": "f669feb6-c0d0-4188-8917-c0b83fdace89"
      },
      "execution_count": 10,
      "outputs": [
        {
          "output_type": "stream",
          "name": "stdout",
          "text": [
            "x>10\n"
          ]
        }
      ]
    },
    {
      "cell_type": "code",
      "source": [
        "input(\"x\")\n",
        "if x>10:\n",
        "  print(\"pass\")\n",
        "if x<10:\n",
        "  print('failed')\n",
        "if x==10:\n",
        "  print('pass')"
      ],
      "metadata": {
        "colab": {
          "base_uri": "https://localhost:8080/"
        },
        "id": "xUEbq2si3Z_T",
        "outputId": "3c4d61f3-f108-4473-dbe7-47b5e6fe73e4"
      },
      "execution_count": 11,
      "outputs": [
        {
          "output_type": "stream",
          "name": "stdout",
          "text": [
            "x 10\n",
            "pass\n"
          ]
        }
      ]
    },
    {
      "cell_type": "code",
      "source": [
        "x=int(input(\"enter the salary\"))\n",
        "if x>250000:\n",
        "  print(x*10/100)\n",
        "if x<250000:\n",
        "  print(\"no tax\")"
      ],
      "metadata": {
        "id": "UvmGVmbV-eKD",
        "colab": {
          "base_uri": "https://localhost:8080/"
        },
        "outputId": "75680120-be5f-4139-bc92-d61bccf24aac"
      },
      "execution_count": 12,
      "outputs": [
        {
          "output_type": "stream",
          "name": "stdout",
          "text": [
            "enter the salary260000\n",
            "26000.0\n"
          ]
        }
      ]
    },
    {
      "cell_type": "code",
      "source": [
        ""
      ],
      "metadata": {
        "id": "v_4oicMsEmIq"
      },
      "execution_count": 12,
      "outputs": []
    }
  ]
}