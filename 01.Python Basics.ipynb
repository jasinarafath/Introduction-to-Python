{
 "cells": [
  {
   "cell_type": "code",
   "execution_count": 1,
   "id": "dfe369dd-ab6c-4f7f-a4ae-ba14ef039aa7",
   "metadata": {},
   "outputs": [
    {
     "data": {
      "text/plain": [
       "5"
      ]
     },
     "execution_count": 1,
     "metadata": {},
     "output_type": "execute_result"
    }
   ],
   "source": [
    "2+3"
   ]
  },
  {
   "cell_type": "code",
   "execution_count": 3,
   "id": "eaa9a634-e3ec-4899-a4b6-b30b69461103",
   "metadata": {},
   "outputs": [],
   "source": [
    "X=10"
   ]
  },
  {
   "cell_type": "code",
   "execution_count": 4,
   "id": "293c7bf0-509e-414b-a542-6481e7558e8c",
   "metadata": {},
   "outputs": [
    {
     "data": {
      "text/plain": [
       "20"
      ]
     },
     "execution_count": 4,
     "metadata": {},
     "output_type": "execute_result"
    }
   ],
   "source": [
    "X+10"
   ]
  },
  {
   "cell_type": "code",
   "execution_count": 5,
   "id": "f5586580-8402-40dd-a783-587030cafce8",
   "metadata": {},
   "outputs": [],
   "source": [
    "Y=9"
   ]
  },
  {
   "cell_type": "code",
   "execution_count": 6,
   "id": "ef5be22a-a261-4261-9648-ef05958201ef",
   "metadata": {},
   "outputs": [
    {
     "data": {
      "text/plain": [
       "18"
      ]
     },
     "execution_count": 6,
     "metadata": {},
     "output_type": "execute_result"
    }
   ],
   "source": [
    "Y+9"
   ]
  },
  {
   "cell_type": "code",
   "execution_count": 7,
   "id": "14d9c30f-f514-4513-aa28-617bd6672d43",
   "metadata": {},
   "outputs": [],
   "source": [
    "P=10000"
   ]
  },
  {
   "cell_type": "code",
   "execution_count": 8,
   "id": "a24339c6-eed3-4f71-b42d-5a5dd04b04f7",
   "metadata": {},
   "outputs": [],
   "source": [
    "N=60"
   ]
  },
  {
   "cell_type": "code",
   "execution_count": 9,
   "id": "03c26dce-69cb-4ccd-bf42-fbd00e366622",
   "metadata": {},
   "outputs": [],
   "source": [
    "R=9/100"
   ]
  },
  {
   "cell_type": "code",
   "execution_count": 11,
   "id": "18201a1c-5ae4-4187-a378-cd8316d7640c",
   "metadata": {},
   "outputs": [],
   "source": [
    "I=P*N*R"
   ]
  },
  {
   "cell_type": "code",
   "execution_count": 13,
   "id": "fa0594d7-fc84-406e-a5ad-2e6778992a7a",
   "metadata": {},
   "outputs": [
    {
     "data": {
      "text/plain": [
       "54000.0"
      ]
     },
     "execution_count": 13,
     "metadata": {},
     "output_type": "execute_result"
    }
   ],
   "source": [
    "I"
   ]
  },
  {
   "cell_type": "code",
   "execution_count": 14,
   "id": "63825ef5-b6a8-4c0f-8059-f2a0ff439044",
   "metadata": {},
   "outputs": [],
   "source": [
    "X=\"INDIA\""
   ]
  },
  {
   "cell_type": "code",
   "execution_count": 15,
   "id": "77a8c494-c944-4617-a038-852f275c7644",
   "metadata": {},
   "outputs": [
    {
     "data": {
      "text/plain": [
       "'INDIA'"
      ]
     },
     "execution_count": 15,
     "metadata": {},
     "output_type": "execute_result"
    }
   ],
   "source": [
    "X"
   ]
  },
  {
   "cell_type": "code",
   "execution_count": 17,
   "id": "80d9ddb9-cd03-4553-81cd-609ac7814834",
   "metadata": {},
   "outputs": [
    {
     "data": {
      "text/plain": [
       "int"
      ]
     },
     "execution_count": 17,
     "metadata": {},
     "output_type": "execute_result"
    }
   ],
   "source": [
    "X=10\n",
    "Y=10.5\n",
    "Z=\"INDIA\"\n",
    "type(X)"
   ]
  },
  {
   "cell_type": "code",
   "execution_count": 18,
   "id": "79aeb2be-3a23-455c-9f22-8b44705081cf",
   "metadata": {},
   "outputs": [
    {
     "data": {
      "text/plain": [
       "float"
      ]
     },
     "execution_count": 18,
     "metadata": {},
     "output_type": "execute_result"
    }
   ],
   "source": [
    "type(Y)"
   ]
  },
  {
   "cell_type": "code",
   "execution_count": 19,
   "id": "a9bdddea-a10e-4184-b5be-f3847c322d0f",
   "metadata": {},
   "outputs": [
    {
     "data": {
      "text/plain": [
       "str"
      ]
     },
     "execution_count": 19,
     "metadata": {},
     "output_type": "execute_result"
    }
   ],
   "source": [
    "type(Z)"
   ]
  },
  {
   "cell_type": "code",
   "execution_count": 4,
   "id": "1dfd77b3-51cd-4c58-b372-73a43496c0db",
   "metadata": {},
   "outputs": [
    {
     "name": "stdin",
     "output_type": "stream",
     "text": [
      "hello india robert\n"
     ]
    }
   ],
   "source": [
    "X=input(\"hello india\")"
   ]
  },
  {
   "cell_type": "code",
   "execution_count": 5,
   "id": "17b024f7-f5f3-43a9-8e4a-dab9309efd22",
   "metadata": {},
   "outputs": [
    {
     "data": {
      "text/plain": [
       "'robert'"
      ]
     },
     "execution_count": 5,
     "metadata": {},
     "output_type": "execute_result"
    }
   ],
   "source": [
    "X"
   ]
  },
  {
   "cell_type": "code",
   "execution_count": null,
   "id": "c0534b8f-0cdd-447d-baa7-43e55fcf12f5",
   "metadata": {},
   "outputs": [],
   "source": []
  }
 ],
 "metadata": {
  "kernelspec": {
   "display_name": "Python 3 (ipykernel)",
   "language": "python",
   "name": "python3"
  },
  "language_info": {
   "codemirror_mode": {
    "name": "ipython",
    "version": 3
   },
   "file_extension": ".py",
   "mimetype": "text/x-python",
   "name": "python",
   "nbconvert_exporter": "python",
   "pygments_lexer": "ipython3",
   "version": "3.9.7"
  }
 },
 "nbformat": 4,
 "nbformat_minor": 5
}
